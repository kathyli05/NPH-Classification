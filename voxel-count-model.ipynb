{
 "cells": [
  {
   "cell_type": "code",
   "execution_count": 52,
   "metadata": {},
   "outputs": [
    {
     "name": "stdout",
     "output_type": "stream",
     "text": [
      "                                            File Name  Voxel Count  \\\n",
      "0   C:/Users/yongl/Desktop/code/initial_Normal\\Ini...       4079.0   \n",
      "1   C:/Users/yongl/Desktop/code/initial_Normal\\Ini...       6873.0   \n",
      "2   C:/Users/yongl/Desktop/code/initial_Normal\\Ini...       7663.0   \n",
      "3   C:/Users/yongl/Desktop/code/initial_Normal\\Ini...       9228.0   \n",
      "4   C:/Users/yongl/Desktop/code/initial_Normal\\Ini...       9492.0   \n",
      "..                                                ...          ...   \n",
      "77  C:/Users/yongl/Desktop/code/initial_NPH\\Initia...     149588.0   \n",
      "78  C:/Users/yongl/Desktop/code/initial_NPH\\Initia...     152828.0   \n",
      "79  C:/Users/yongl/Desktop/code/initial_NPH\\Initia...     165196.0   \n",
      "80  C:/Users/yongl/Desktop/code/initial_NPH\\Initia...     168132.0   \n",
      "81  C:/Users/yongl/Desktop/code/initial_NPH\\Initia...     169960.0   \n",
      "\n",
      "    Normalized  Ventricular Volume (mm^3)  Resnet Has NPH?  \\\n",
      "0          NaN                4937.055727     NaN    FALSE   \n",
      "1          NaN                6794.823653     NaN    FALSE   \n",
      "2          NaN                9347.024083     NaN    FALSE   \n",
      "3          NaN                8913.069471     NaN    FALSE   \n",
      "4          NaN               11404.240250     NaN    FALSE   \n",
      "..         ...                        ...     ...      ...   \n",
      "77         NaN              127025.744400     NaN     TRUE   \n",
      "78         NaN              129777.057400     NaN     TRUE   \n",
      "79         NaN              168133.235100     NaN     TRUE   \n",
      "80         NaN              165246.464300     NaN     TRUE   \n",
      "81         NaN              152649.811600     NaN     TRUE   \n",
      "\n",
      "   Manual Threshold - Voxel Count Unnamed: 7  \\\n",
      "0                           FALSE       TRUE   \n",
      "1                           FALSE       TRUE   \n",
      "2                           FALSE       TRUE   \n",
      "3                           FALSE       TRUE   \n",
      "4                           FALSE       TRUE   \n",
      "..                            ...        ...   \n",
      "77                           TRUE       TRUE   \n",
      "78                           TRUE       TRUE   \n",
      "79                           TRUE       TRUE   \n",
      "80                           TRUE       TRUE   \n",
      "81                           TRUE       TRUE   \n",
      "\n",
      "   Manual Threshold - Ventricular Volume Unnamed: 9  ...  Unnamed: 19  \\\n",
      "0                                  FALSE       True  ...          NaN   \n",
      "1                                  FALSE       True  ...          NaN   \n",
      "2                                  FALSE       True  ...          NaN   \n",
      "3                                  FALSE       True  ...          NaN   \n",
      "4                                  FALSE       True  ...          NaN   \n",
      "..                                   ...        ...  ...          ...   \n",
      "77                                  TRUE       True  ...          NaN   \n",
      "78                                  TRUE       True  ...          NaN   \n",
      "79                                  TRUE       True  ...          NaN   \n",
      "80                                  TRUE       True  ...          NaN   \n",
      "81                                  TRUE       True  ...          NaN   \n",
      "\n",
      "    Unnamed: 20  Unnamed: 21  Unnamed: 22  Unnamed: 23  Unnamed: 24  \\\n",
      "0           NaN          NaN          NaN          NaN          NaN   \n",
      "1           NaN          NaN          NaN          NaN          NaN   \n",
      "2           NaN          NaN          NaN          NaN          NaN   \n",
      "3           NaN          NaN          NaN          NaN          NaN   \n",
      "4           NaN          NaN          NaN          NaN          NaN   \n",
      "..          ...          ...          ...          ...          ...   \n",
      "77          NaN          NaN          NaN          NaN          NaN   \n",
      "78          NaN          NaN          NaN          NaN          NaN   \n",
      "79          NaN          NaN          NaN          NaN          NaN   \n",
      "80          NaN          NaN          NaN          NaN          NaN   \n",
      "81          NaN          NaN          NaN          NaN          NaN   \n",
      "\n",
      "    Unnamed: 25  Unnamed: 26  Unnamed: 27  Unnamed: 28  \n",
      "0           NaN          NaN          NaN          NaN  \n",
      "1           NaN          NaN          NaN          NaN  \n",
      "2           NaN          NaN          NaN          NaN  \n",
      "3           NaN          NaN          NaN          NaN  \n",
      "4           NaN          NaN          NaN          NaN  \n",
      "..          ...          ...          ...          ...  \n",
      "77          NaN          NaN          NaN          NaN  \n",
      "78          NaN          NaN          NaN          NaN  \n",
      "79          NaN          NaN          NaN          NaN  \n",
      "80          NaN          NaN          NaN          NaN  \n",
      "81          NaN          NaN          NaN          NaN  \n",
      "\n",
      "[82 rows x 29 columns]\n"
     ]
    }
   ],
   "source": [
    "from cv2 import threshold\n",
    "import pandas as pd\n",
    "import matplotlib.pyplot as plt\n",
    "import numpy as np\n",
    "import csv\n",
    "\n",
    "df = pd.read_csv(\"/home/kathy/NPHdata.csv\")\n",
    "df.dropna(inplace=True, subset=['File Name'])\n",
    "df\n",
    "\n",
    "thresholds = list(np.array(list(range(4079, 169960, 16588))))"
   ]
  },
  {
   "cell_type": "code",
   "execution_count": 53,
   "metadata": {},
   "outputs": [],
   "source": [
    "from re import A\n",
    "import numpy as np\n",
    "\n",
    "res = {}\n",
    "\n",
    "list_tp, list_fn, list_fp, list_tn = [], [], [], []\n",
    "\n",
    "for threshold in thresholds:\n",
    "    list_tp.append(0)\n",
    "    list_fn.append(0)\n",
    "    list_fp.append(0)\n",
    "    list_tn.append(0)\n",
    "    for index, instance in df.iterrows():\n",
    "        actual = instance[\"Has NPH?\"]\n",
    "        prediction = instance[\"Manual Threshold - Voxel Count\"]\n",
    "        pred = True if instance['Voxel Count'] > threshold else False\n",
    "        res.setdefault(threshold, []).append(pred)\n",
    "\n",
    "        if actual == \"TRUE\" and pred == True:\n",
    "            list_tp[-1] += 1\n",
    "        elif actual == \"FALSE\" and pred == False:\n",
    "            list_tn[-1] += 1\n",
    "        elif actual == \"TRUE\" and pred == False:\n",
    "            list_fn[-1] += 1\n",
    "        elif actual == \"FALSE\" and pred  == True:\n",
    "            list_fp[-1] += 1\n"
   ]
  },
  {
   "cell_type": "code",
   "execution_count": 54,
   "metadata": {},
   "outputs": [],
   "source": [
    "list_tpr = []\n",
    "list_fpr = []\n",
    "for i in range(len(list_fp)):\n",
    "    list_tpr.append(list_tp[i]/(list_tp[i]+list_fn[i]))\n",
    "    list_fpr.append(list_fp[i]/(list_tn[i]+list_fp[i]))"
   ]
  },
  {
   "cell_type": "code",
   "execution_count": 55,
   "metadata": {},
   "outputs": [
    {
     "data": {
      "text/plain": [
       "0.9087816944959801"
      ]
     },
     "execution_count": 55,
     "metadata": {},
     "output_type": "execute_result"
    },
    {
     "data": {
      "image/png": "[encoded data removed]",
      "text/plain": [
       "<Figure size 432x288 with 1 Axes>"
      ]
     },
     "metadata": {
      "needs_background": "light"
     },
     "output_type": "display_data"
    }
   ],
   "source": [
    "import matplotlib.pyplot as plt\n",
    "from sklearn import metrics\n",
    "\n",
    "plt.plot(list_fpr, list_tpr)\n",
    "plt.xlabel('False Positive Rate')\n",
    "plt.ylabel('True Positive Rate')\n",
    "plt.title('ROC Curve')\n",
    "\n",
    "metrics.auc(list_fpr, list_tpr)"
   ]
  },
  {
   "cell_type": "code",
   "execution_count": null,
   "metadata": {},
   "outputs": [],
   "source": []
  }
 ],
 "metadata": {
  "kernelspec": {
   "display_name": "Python 3.10.5 64-bit",
   "language": "python",
   "name": "python3"
  },
  "language_info": {
   "codemirror_mode": {
    "name": "ipython",
    "version": 3
   },
   "file_extension": ".py",
   "mimetype": "text/x-python",
   "name": "python",
   "nbconvert_exporter": "python",
   "pygments_lexer": "ipython3",
   "version": "3.10.5"
  },
  "orig_nbformat": 4,
  "vscode": {
   "interpreter": {
    "hash": "7fa79ab3892f4c0be8b0ef15fe9eed33e15923aecabeb41ab216bb4ad234fd5e"
   }
  }
 },
 "nbformat": 4,
 "nbformat_minor": 2
}
