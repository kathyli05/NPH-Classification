{
 "cells": [
  {
   "cell_type": "code",
   "execution_count": 6,
   "metadata": {},
   "outputs": [],
   "source": [
    "from cv2 import threshold\n",
    "import pandas as pd\n",
    "import matplotlib.pyplot as plt\n",
    "import numpy as np\n",
    "import csv\n",
    "\n",
    "#with open(\"/home/kathy/NPHdata.csv\") as file:\n",
    "    #values = np.loadtxt(file, delimiter=\",\")\n",
    "    #array = list(file)\n",
    "\n",
    "df = pd.read_csv(\"/home/kathy/NPHdata.csv\")\n",
    "df.dropna(inplace=True, subset=['File Name'])\n",
    "df = df[:-1]\n",
    "df\n",
    "\n",
    "thresholds = list(np.array(list(range(4079, 169960, 16000))))"
   ]
  },
  {
   "cell_type": "code",
   "execution_count": 7,
   "metadata": {},
   "outputs": [],
   "source": [
    "from re import A\n",
    "import numpy as np\n",
    "\n",
    "res = {}\n",
    "\n",
    "list_tp, list_fn, list_fp, list_tn = [], [], [], []\n",
    "\n",
    "# tp = 0; fp = 0; fn = 0; tn = 0\n",
    "\n",
    "for threshold in thresholds:\n",
    "    # print(thresholds)\n",
    "    list_tp.append(0)\n",
    "    list_fn.append(0)\n",
    "    list_fp.append(0)\n",
    "    list_tn.append(0)\n",
    "    for index, instance in df.iterrows():\n",
    "        actual = instance[\"Has NPH?\"]\n",
    "        prediction = instance[\"Manual Threshold - Voxel Count\"]\n",
    "        pred = True if instance['Voxel Count'] > threshold else False\n",
    "        res.setdefault(threshold, []).append(pred)\n",
    "\n",
    "        if actual == \"TRUE\" and pred == True:\n",
    "            # tp += 1\n",
    "            list_tp[-1] += 1\n",
    "            #array_tp[-1] += 1\n",
    "        elif actual == \"FALSE\" and pred == False:\n",
    "            # tn += 1\n",
    "            list_tn[-1] += 1\n",
    "            #array_tn[-1] += 1\n",
    "        elif actual == \"TRUE\" and pred == False:\n",
    "            # fn += 1\n",
    "            list_fn[-1] += 1\n",
    "            # array_fn[-1] += 1\n",
    "            #list_fn.append()\n",
    "        elif actual == \"FALSE\" and pred  == True:\n",
    "            # fp += 1\n",
    "            #array_tn[-1] += 1\n",
    "            list_fp[-1] += 1\n",
    "\n",
    "#print(list_fp, list_fn, list_tn, list_tp)       \n",
    "\n",
    "# tpr = tp / (tp + fn)\n",
    "# fpr = fp / (tn + fp)\n",
    "\n",
    "# accuracy = (tp + tn) / (tp + tn + fn + fp)\n",
    "\n",
    "# print(tpr, fpr, accuracy)\n",
    "        \n",
    "        # if (pred == True and actual == \"TRUE\") or (pred == False and actual == \"FALSE\"):\n",
    "            # res.setdefault(threshold, []).append(True)\n",
    "        # else:\n",
    "            # res.setdefault(threshold, []).append(False)\n",
    "    # print(actual, prediction)\n",
    "\n"
   ]
  },
  {
   "cell_type": "code",
   "execution_count": 9,
   "metadata": {},
   "outputs": [],
   "source": [
    "list_tpr = []\n",
    "list_fpr = []\n",
    "for i in range(len(list_fp)):\n",
    "    list_tpr.append(list_tp[i]/(list_tp[i]+list_fn[i]))\n",
    "    list_fpr.append(list_fp[i]/(list_tn[i]+list_fp[i]))"
   ]
  },
  {
   "cell_type": "code",
   "execution_count": 12,
   "metadata": {},
   "outputs": [
    {
     "data": {
      "text/plain": [
       "[<matplotlib.lines.Line2D at 0x7f5b3abb6ca0>]"
      ]
     },
     "execution_count": 12,
     "metadata": {},
     "output_type": "execute_result"
    },
    {
     "data": {
      "image/png": "[encoded data removed]",
      "text/plain": [
       "<Figure size 432x288 with 1 Axes>"
      ]
     },
     "metadata": {
      "needs_background": "light"
     },
     "output_type": "display_data"
    }
   ],
   "source": [
    "import matplotlib.pyplot as plt\n",
    "plt.plot(list_fpr, list_tpr)"
   ]
  },
  {
   "cell_type": "code",
   "execution_count": null,
   "metadata": {},
   "outputs": [],
   "source": []
  }
 ],
 "metadata": {
  "kernelspec": {
   "display_name": "Python 3.8.10 64-bit",
   "language": "python",
   "name": "python3"
  },
  "language_info": {
   "codemirror_mode": {
    "name": "ipython",
    "version": 3
   },
   "file_extension": ".py",
   "mimetype": "text/x-python",
   "name": "python",
   "nbconvert_exporter": "python",
   "pygments_lexer": "ipython3",
   "version": "3.8.10"
  },
  "orig_nbformat": 4,
  "vscode": {
   "interpreter": {
    "hash": "916dbcbb3f70747c44a77c7bcd40155683ae19c65e1c03b4aa3499c5328201f1"
   }
  }
 },
 "nbformat": 4,
 "nbformat_minor": 2
}
