{
 "cells": [
  {
   "cell_type": "code",
   "execution_count": 51,
   "metadata": {},
   "outputs": [],
   "source": [
    "from cv2 import threshold\n",
    "import pandas as pd\n",
    "import matplotlib.pyplot as plt\n",
    "import numpy as np\n",
    "import csv\n",
    "\n",
    "df = pd.read_csv(\"/home/kathy/NPHdata.csv\")\n",
    "df.dropna(inplace=True, subset=['File Name'])\n",
    "df\n",
    "\n",
    "thresholds = list(np.array(list(range(int(4937.055727), int(168133.2351), int(16319.0)))))"
   ]
  },
  {
   "cell_type": "code",
   "execution_count": 52,
   "metadata": {},
   "outputs": [],
   "source": [
    "from re import A\n",
    "import numpy as np\n",
    "\n",
    "res = {}\n",
    "\n",
    "list_tp, list_fn, list_fp, list_tn = [], [], [], []\n",
    "\n",
    "for threshold in thresholds:\n",
    "    list_tp.append(0)\n",
    "    list_fn.append(0)\n",
    "    list_fp.append(0)\n",
    "    list_tn.append(0)\n",
    "    for index, instance in df.iterrows():\n",
    "        actual = instance[\"Has NPH?\"]\n",
    "        prediction = instance[\"Manual Threshold - Ventricular Volume\"]\n",
    "        pred = True if instance['Ventricular Volume (mm^3)'] > threshold else False\n",
    "        res.setdefault(threshold, []).append(pred)\n",
    "\n",
    "        if actual == \"TRUE\" and pred == True:\n",
    "            list_tp[-1] += 1\n",
    "        elif actual == \"FALSE\" and pred == False:\n",
    "            list_tn[-1] += 1\n",
    "        elif actual == \"TRUE\" and pred == False:\n",
    "            list_fn[-1] += 1\n",
    "        elif actual == \"FALSE\" and pred  == True:\n",
    "            list_fp[-1] += 1"
   ]
  },
  {
   "cell_type": "code",
   "execution_count": 53,
   "metadata": {},
   "outputs": [],
   "source": [
    "list_tpr = []\n",
    "list_fpr = []\n",
    "for i in range(len(list_fp)):\n",
    "    list_tpr.append(list_tp[i]/(list_tp[i]+list_fn[i]))\n",
    "    list_fpr.append(list_fp[i]/(list_tn[i]+list_fp[i]))"
   ]
  },
  {
   "cell_type": "code",
   "execution_count": 54,
   "metadata": {},
   "outputs": [
    {
     "data": {
      "text/plain": [
       "0.9480519480519483"
      ]
     },
     "execution_count": 54,
     "metadata": {},
     "output_type": "execute_result"
    },
    {
     "data": {
      "image/png": "[encoded data removed]",
      "text/plain": [
       "<Figure size 432x288 with 1 Axes>"
      ]
     },
     "metadata": {
      "needs_background": "light"
     },
     "output_type": "display_data"
    }
   ],
   "source": [
    "import matplotlib.pyplot as plt\n",
    "from sklearn import metrics\n",
    "\n",
    "plt.plot(list_fpr, list_tpr)\n",
    "plt.xlabel('False Positive Rate')\n",
    "plt.ylabel('True Positive Rate')\n",
    "plt.title('ROC Curve')\n",
    "\n",
    "metrics.auc(list_fpr, list_tpr)"
   ]
  }
 ],
 "metadata": {
  "kernelspec": {
   "display_name": "Python 3.8.10 64-bit",
   "language": "python",
   "name": "python3"
  },
  "language_info": {
   "codemirror_mode": {
    "name": "ipython",
    "version": 3
   },
   "file_extension": ".py",
   "mimetype": "text/x-python",
   "name": "python",
   "nbconvert_exporter": "python",
   "pygments_lexer": "ipython3",
   "version": "3.8.10"
  },
  "orig_nbformat": 4,
  "vscode": {
   "interpreter": {
    "hash": "916dbcbb3f70747c44a77c7bcd40155683ae19c65e1c03b4aa3499c5328201f1"
   }
  }
 },
 "nbformat": 4,
 "nbformat_minor": 2
}
