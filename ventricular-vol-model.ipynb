{
 "cells": [
  {
   "cell_type": "code",
   "execution_count": 61,
   "metadata": {},
   "outputs": [
    {
     "name": "stdout",
     "output_type": "stream",
     "text": [
      "[4937, 6568, 8199, 9830, 11461, 13092, 14723, 16354, 17985, 19616, 21247, 22878, 24509, 26140, 27771, 29402, 31033, 32664, 34295, 35926, 37557, 39188, 40819, 42450, 44081, 45712, 47343, 48974, 50605, 52236, 53867, 55498, 57129, 58760, 60391, 62022, 63653, 65284, 66915, 68546, 70177, 71808, 73439, 75070, 76701, 78332, 79963, 81594, 83225, 84856, 86487, 88118, 89749, 91380, 93011, 94642, 96273, 97904, 99535, 101166, 102797, 104428, 106059, 107690, 109321, 110952, 112583, 114214, 115845, 117476, 119107, 120738, 122369, 124000, 125631, 127262, 128893, 130524, 132155, 133786, 135417, 137048, 138679, 140310, 141941, 143572, 145203, 146834, 148465, 150096, 151727, 153358, 154989, 156620, 158251, 159882, 161513, 163144, 164775, 166406, 168037]\n"
     ]
    }
   ],
   "source": [
    "from cv2 import threshold\n",
    "import pandas as pd\n",
    "import matplotlib.pyplot as plt\n",
    "import numpy as np\n",
    "import csv\n",
    "\n",
    "df = pd.read_csv(\"/home/kathy/NPHdata.csv\")\n",
    "df.dropna(inplace=True, subset=['File Name'])\n",
    "df\n",
    "\n",
    "\n",
    "thresholds = list(range(int(4937.055727), int(168133.2351), int(1631.0)))\n",
    "\n",
    "#threshold = [112583]\n",
    "print(thresholds)"
   ]
  },
  {
   "cell_type": "code",
   "execution_count": 49,
   "metadata": {},
   "outputs": [],
   "source": [
    "#list(range(int(4937.055727), int(168133.2351), int(1631.0)))[66]"
   ]
  },
  {
   "cell_type": "code",
   "execution_count": 50,
   "metadata": {},
   "outputs": [
    {
     "name": "stdout",
     "output_type": "stream",
     "text": [
      "[0]\n",
      "[0, 0]\n",
      "[0, 0, 0]\n",
      "[0, 0, 0, 0]\n",
      "[0, 0, 0, 0, 0]\n",
      "[0, 0, 0, 0, 0, 0]\n",
      "[0, 0, 0, 0, 0, 0, 0]\n",
      "[0, 0, 0, 0, 0, 0, 0, 0]\n",
      "[0, 0, 0, 0, 0, 0, 0, 0, 0]\n",
      "[0, 0, 0, 0, 0, 0, 0, 0, 0, 0]\n",
      "[0, 0, 0, 0, 0, 0, 0, 0, 0, 0, 0]\n",
      "[0, 0, 0, 0, 0, 0, 0, 0, 0, 0, 0, 0]\n",
      "[0, 0, 0, 0, 0, 0, 0, 0, 0, 0, 0, 0, 0]\n",
      "[0, 0, 0, 0, 0, 0, 0, 0, 0, 0, 0, 0, 0, 1]\n",
      "[0, 0, 0, 0, 0, 0, 0, 0, 0, 0, 0, 0, 0, 1, 1]\n",
      "[0, 0, 0, 0, 0, 0, 0, 0, 0, 0, 0, 0, 0, 1, 1, 1]\n",
      "[0, 0, 0, 0, 0, 0, 0, 0, 0, 0, 0, 0, 0, 1, 1, 1, 1]\n",
      "[0, 0, 0, 0, 0, 0, 0, 0, 0, 0, 0, 0, 0, 1, 1, 1, 1, 1]\n",
      "[0, 0, 0, 0, 0, 0, 0, 0, 0, 0, 0, 0, 0, 1, 1, 1, 1, 1, 1]\n",
      "[0, 0, 0, 0, 0, 0, 0, 0, 0, 0, 0, 0, 0, 1, 1, 1, 1, 1, 1, 1]\n",
      "[0, 0, 0, 0, 0, 0, 0, 0, 0, 0, 0, 0, 0, 1, 1, 1, 1, 1, 1, 1, 1]\n",
      "[0, 0, 0, 0, 0, 0, 0, 0, 0, 0, 0, 0, 0, 1, 1, 1, 1, 1, 1, 1, 1, 1]\n",
      "[0, 0, 0, 0, 0, 0, 0, 0, 0, 0, 0, 0, 0, 1, 1, 1, 1, 1, 1, 1, 1, 1, 1]\n",
      "[0, 0, 0, 0, 0, 0, 0, 0, 0, 0, 0, 0, 0, 1, 1, 1, 1, 1, 1, 1, 1, 1, 1, 3]\n",
      "[0, 0, 0, 0, 0, 0, 0, 0, 0, 0, 0, 0, 0, 1, 1, 1, 1, 1, 1, 1, 1, 1, 1, 3, 3]\n",
      "[0, 0, 0, 0, 0, 0, 0, 0, 0, 0, 0, 0, 0, 1, 1, 1, 1, 1, 1, 1, 1, 1, 1, 3, 3, 3]\n",
      "[0, 0, 0, 0, 0, 0, 0, 0, 0, 0, 0, 0, 0, 1, 1, 1, 1, 1, 1, 1, 1, 1, 1, 3, 3, 3, 3]\n",
      "[0, 0, 0, 0, 0, 0, 0, 0, 0, 0, 0, 0, 0, 1, 1, 1, 1, 1, 1, 1, 1, 1, 1, 3, 3, 3, 3, 3]\n",
      "[0, 0, 0, 0, 0, 0, 0, 0, 0, 0, 0, 0, 0, 1, 1, 1, 1, 1, 1, 1, 1, 1, 1, 3, 3, 3, 3, 3, 3]\n",
      "[0, 0, 0, 0, 0, 0, 0, 0, 0, 0, 0, 0, 0, 1, 1, 1, 1, 1, 1, 1, 1, 1, 1, 3, 3, 3, 3, 3, 3, 4]\n",
      "[0, 0, 0, 0, 0, 0, 0, 0, 0, 0, 0, 0, 0, 1, 1, 1, 1, 1, 1, 1, 1, 1, 1, 3, 3, 3, 3, 3, 3, 4, 4]\n",
      "[0, 0, 0, 0, 0, 0, 0, 0, 0, 0, 0, 0, 0, 1, 1, 1, 1, 1, 1, 1, 1, 1, 1, 3, 3, 3, 3, 3, 3, 4, 4, 5]\n",
      "[0, 0, 0, 0, 0, 0, 0, 0, 0, 0, 0, 0, 0, 1, 1, 1, 1, 1, 1, 1, 1, 1, 1, 3, 3, 3, 3, 3, 3, 4, 4, 5, 6]\n",
      "[0, 0, 0, 0, 0, 0, 0, 0, 0, 0, 0, 0, 0, 1, 1, 1, 1, 1, 1, 1, 1, 1, 1, 3, 3, 3, 3, 3, 3, 4, 4, 5, 6, 6]\n",
      "[0, 0, 0, 0, 0, 0, 0, 0, 0, 0, 0, 0, 0, 1, 1, 1, 1, 1, 1, 1, 1, 1, 1, 3, 3, 3, 3, 3, 3, 4, 4, 5, 6, 6, 6]\n",
      "[0, 0, 0, 0, 0, 0, 0, 0, 0, 0, 0, 0, 0, 1, 1, 1, 1, 1, 1, 1, 1, 1, 1, 3, 3, 3, 3, 3, 3, 4, 4, 5, 6, 6, 6, 6]\n",
      "[0, 0, 0, 0, 0, 0, 0, 0, 0, 0, 0, 0, 0, 1, 1, 1, 1, 1, 1, 1, 1, 1, 1, 3, 3, 3, 3, 3, 3, 4, 4, 5, 6, 6, 6, 6, 6]\n",
      "[0, 0, 0, 0, 0, 0, 0, 0, 0, 0, 0, 0, 0, 1, 1, 1, 1, 1, 1, 1, 1, 1, 1, 3, 3, 3, 3, 3, 3, 4, 4, 5, 6, 6, 6, 6, 6, 8]\n",
      "[0, 0, 0, 0, 0, 0, 0, 0, 0, 0, 0, 0, 0, 1, 1, 1, 1, 1, 1, 1, 1, 1, 1, 3, 3, 3, 3, 3, 3, 4, 4, 5, 6, 6, 6, 6, 6, 8, 8]\n",
      "[0, 0, 0, 0, 0, 0, 0, 0, 0, 0, 0, 0, 0, 1, 1, 1, 1, 1, 1, 1, 1, 1, 1, 3, 3, 3, 3, 3, 3, 4, 4, 5, 6, 6, 6, 6, 6, 8, 8, 8]\n",
      "[0, 0, 0, 0, 0, 0, 0, 0, 0, 0, 0, 0, 0, 1, 1, 1, 1, 1, 1, 1, 1, 1, 1, 3, 3, 3, 3, 3, 3, 4, 4, 5, 6, 6, 6, 6, 6, 8, 8, 8, 8]\n",
      "[0, 0, 0, 0, 0, 0, 0, 0, 0, 0, 0, 0, 0, 1, 1, 1, 1, 1, 1, 1, 1, 1, 1, 3, 3, 3, 3, 3, 3, 4, 4, 5, 6, 6, 6, 6, 6, 8, 8, 8, 8, 8]\n",
      "[0, 0, 0, 0, 0, 0, 0, 0, 0, 0, 0, 0, 0, 1, 1, 1, 1, 1, 1, 1, 1, 1, 1, 3, 3, 3, 3, 3, 3, 4, 4, 5, 6, 6, 6, 6, 6, 8, 8, 8, 8, 8, 9]\n",
      "[0, 0, 0, 0, 0, 0, 0, 0, 0, 0, 0, 0, 0, 1, 1, 1, 1, 1, 1, 1, 1, 1, 1, 3, 3, 3, 3, 3, 3, 4, 4, 5, 6, 6, 6, 6, 6, 8, 8, 8, 8, 8, 9, 10]\n",
      "[0, 0, 0, 0, 0, 0, 0, 0, 0, 0, 0, 0, 0, 1, 1, 1, 1, 1, 1, 1, 1, 1, 1, 3, 3, 3, 3, 3, 3, 4, 4, 5, 6, 6, 6, 6, 6, 8, 8, 8, 8, 8, 9, 10, 11]\n",
      "[0, 0, 0, 0, 0, 0, 0, 0, 0, 0, 0, 0, 0, 1, 1, 1, 1, 1, 1, 1, 1, 1, 1, 3, 3, 3, 3, 3, 3, 4, 4, 5, 6, 6, 6, 6, 6, 8, 8, 8, 8, 8, 9, 10, 11, 11]\n",
      "[0, 0, 0, 0, 0, 0, 0, 0, 0, 0, 0, 0, 0, 1, 1, 1, 1, 1, 1, 1, 1, 1, 1, 3, 3, 3, 3, 3, 3, 4, 4, 5, 6, 6, 6, 6, 6, 8, 8, 8, 8, 8, 9, 10, 11, 11, 11]\n",
      "[0, 0, 0, 0, 0, 0, 0, 0, 0, 0, 0, 0, 0, 1, 1, 1, 1, 1, 1, 1, 1, 1, 1, 3, 3, 3, 3, 3, 3, 4, 4, 5, 6, 6, 6, 6, 6, 8, 8, 8, 8, 8, 9, 10, 11, 11, 11, 12]\n",
      "[0, 0, 0, 0, 0, 0, 0, 0, 0, 0, 0, 0, 0, 1, 1, 1, 1, 1, 1, 1, 1, 1, 1, 3, 3, 3, 3, 3, 3, 4, 4, 5, 6, 6, 6, 6, 6, 8, 8, 8, 8, 8, 9, 10, 11, 11, 11, 12, 13]\n",
      "[0, 0, 0, 0, 0, 0, 0, 0, 0, 0, 0, 0, 0, 1, 1, 1, 1, 1, 1, 1, 1, 1, 1, 3, 3, 3, 3, 3, 3, 4, 4, 5, 6, 6, 6, 6, 6, 8, 8, 8, 8, 8, 9, 10, 11, 11, 11, 12, 13, 14]\n",
      "[0, 0, 0, 0, 0, 0, 0, 0, 0, 0, 0, 0, 0, 1, 1, 1, 1, 1, 1, 1, 1, 1, 1, 3, 3, 3, 3, 3, 3, 4, 4, 5, 6, 6, 6, 6, 6, 8, 8, 8, 8, 8, 9, 10, 11, 11, 11, 12, 13, 14, 14]\n",
      "[0, 0, 0, 0, 0, 0, 0, 0, 0, 0, 0, 0, 0, 1, 1, 1, 1, 1, 1, 1, 1, 1, 1, 3, 3, 3, 3, 3, 3, 4, 4, 5, 6, 6, 6, 6, 6, 8, 8, 8, 8, 8, 9, 10, 11, 11, 11, 12, 13, 14, 14, 14]\n",
      "[0, 0, 0, 0, 0, 0, 0, 0, 0, 0, 0, 0, 0, 1, 1, 1, 1, 1, 1, 1, 1, 1, 1, 3, 3, 3, 3, 3, 3, 4, 4, 5, 6, 6, 6, 6, 6, 8, 8, 8, 8, 8, 9, 10, 11, 11, 11, 12, 13, 14, 14, 14, 14]\n",
      "[0, 0, 0, 0, 0, 0, 0, 0, 0, 0, 0, 0, 0, 1, 1, 1, 1, 1, 1, 1, 1, 1, 1, 3, 3, 3, 3, 3, 3, 4, 4, 5, 6, 6, 6, 6, 6, 8, 8, 8, 8, 8, 9, 10, 11, 11, 11, 12, 13, 14, 14, 14, 14, 14]\n",
      "[0, 0, 0, 0, 0, 0, 0, 0, 0, 0, 0, 0, 0, 1, 1, 1, 1, 1, 1, 1, 1, 1, 1, 3, 3, 3, 3, 3, 3, 4, 4, 5, 6, 6, 6, 6, 6, 8, 8, 8, 8, 8, 9, 10, 11, 11, 11, 12, 13, 14, 14, 14, 14, 14, 14]\n",
      "[0, 0, 0, 0, 0, 0, 0, 0, 0, 0, 0, 0, 0, 1, 1, 1, 1, 1, 1, 1, 1, 1, 1, 3, 3, 3, 3, 3, 3, 4, 4, 5, 6, 6, 6, 6, 6, 8, 8, 8, 8, 8, 9, 10, 11, 11, 11, 12, 13, 14, 14, 14, 14, 14, 14, 14]\n",
      "[0, 0, 0, 0, 0, 0, 0, 0, 0, 0, 0, 0, 0, 1, 1, 1, 1, 1, 1, 1, 1, 1, 1, 3, 3, 3, 3, 3, 3, 4, 4, 5, 6, 6, 6, 6, 6, 8, 8, 8, 8, 8, 9, 10, 11, 11, 11, 12, 13, 14, 14, 14, 14, 14, 14, 14, 15]\n",
      "[0, 0, 0, 0, 0, 0, 0, 0, 0, 0, 0, 0, 0, 1, 1, 1, 1, 1, 1, 1, 1, 1, 1, 3, 3, 3, 3, 3, 3, 4, 4, 5, 6, 6, 6, 6, 6, 8, 8, 8, 8, 8, 9, 10, 11, 11, 11, 12, 13, 14, 14, 14, 14, 14, 14, 14, 15, 15]\n",
      "[0, 0, 0, 0, 0, 0, 0, 0, 0, 0, 0, 0, 0, 1, 1, 1, 1, 1, 1, 1, 1, 1, 1, 3, 3, 3, 3, 3, 3, 4, 4, 5, 6, 6, 6, 6, 6, 8, 8, 8, 8, 8, 9, 10, 11, 11, 11, 12, 13, 14, 14, 14, 14, 14, 14, 14, 15, 15, 15]\n",
      "[0, 0, 0, 0, 0, 0, 0, 0, 0, 0, 0, 0, 0, 1, 1, 1, 1, 1, 1, 1, 1, 1, 1, 3, 3, 3, 3, 3, 3, 4, 4, 5, 6, 6, 6, 6, 6, 8, 8, 8, 8, 8, 9, 10, 11, 11, 11, 12, 13, 14, 14, 14, 14, 14, 14, 14, 15, 15, 15, 15]\n",
      "[0, 0, 0, 0, 0, 0, 0, 0, 0, 0, 0, 0, 0, 1, 1, 1, 1, 1, 1, 1, 1, 1, 1, 3, 3, 3, 3, 3, 3, 4, 4, 5, 6, 6, 6, 6, 6, 8, 8, 8, 8, 8, 9, 10, 11, 11, 11, 12, 13, 14, 14, 14, 14, 14, 14, 14, 15, 15, 15, 15, 15]\n",
      "[0, 0, 0, 0, 0, 0, 0, 0, 0, 0, 0, 0, 0, 1, 1, 1, 1, 1, 1, 1, 1, 1, 1, 3, 3, 3, 3, 3, 3, 4, 4, 5, 6, 6, 6, 6, 6, 8, 8, 8, 8, 8, 9, 10, 11, 11, 11, 12, 13, 14, 14, 14, 14, 14, 14, 14, 15, 15, 15, 15, 15, 16]\n",
      "[0, 0, 0, 0, 0, 0, 0, 0, 0, 0, 0, 0, 0, 1, 1, 1, 1, 1, 1, 1, 1, 1, 1, 3, 3, 3, 3, 3, 3, 4, 4, 5, 6, 6, 6, 6, 6, 8, 8, 8, 8, 8, 9, 10, 11, 11, 11, 12, 13, 14, 14, 14, 14, 14, 14, 14, 15, 15, 15, 15, 15, 16, 16]\n",
      "[0, 0, 0, 0, 0, 0, 0, 0, 0, 0, 0, 0, 0, 1, 1, 1, 1, 1, 1, 1, 1, 1, 1, 3, 3, 3, 3, 3, 3, 4, 4, 5, 6, 6, 6, 6, 6, 8, 8, 8, 8, 8, 9, 10, 11, 11, 11, 12, 13, 14, 14, 14, 14, 14, 14, 14, 15, 15, 15, 15, 15, 16, 16, 17]\n",
      "[0, 0, 0, 0, 0, 0, 0, 0, 0, 0, 0, 0, 0, 1, 1, 1, 1, 1, 1, 1, 1, 1, 1, 3, 3, 3, 3, 3, 3, 4, 4, 5, 6, 6, 6, 6, 6, 8, 8, 8, 8, 8, 9, 10, 11, 11, 11, 12, 13, 14, 14, 14, 14, 14, 14, 14, 15, 15, 15, 15, 15, 16, 16, 17, 19]\n",
      "[0, 0, 0, 0, 0, 0, 0, 0, 0, 0, 0, 0, 0, 1, 1, 1, 1, 1, 1, 1, 1, 1, 1, 3, 3, 3, 3, 3, 3, 4, 4, 5, 6, 6, 6, 6, 6, 8, 8, 8, 8, 8, 9, 10, 11, 11, 11, 12, 13, 14, 14, 14, 14, 14, 14, 14, 15, 15, 15, 15, 15, 16, 16, 17, 19, 19]\n",
      "[0, 0, 0, 0, 0, 0, 0, 0, 0, 0, 0, 0, 0, 1, 1, 1, 1, 1, 1, 1, 1, 1, 1, 3, 3, 3, 3, 3, 3, 4, 4, 5, 6, 6, 6, 6, 6, 8, 8, 8, 8, 8, 9, 10, 11, 11, 11, 12, 13, 14, 14, 14, 14, 14, 14, 14, 15, 15, 15, 15, 15, 16, 16, 17, 19, 19, 19]\n",
      "[0, 0, 0, 0, 0, 0, 0, 0, 0, 0, 0, 0, 0, 1, 1, 1, 1, 1, 1, 1, 1, 1, 1, 3, 3, 3, 3, 3, 3, 4, 4, 5, 6, 6, 6, 6, 6, 8, 8, 8, 8, 8, 9, 10, 11, 11, 11, 12, 13, 14, 14, 14, 14, 14, 14, 14, 15, 15, 15, 15, 15, 16, 16, 17, 19, 19, 19, 19]\n",
      "[0, 0, 0, 0, 0, 0, 0, 0, 0, 0, 0, 0, 0, 1, 1, 1, 1, 1, 1, 1, 1, 1, 1, 3, 3, 3, 3, 3, 3, 4, 4, 5, 6, 6, 6, 6, 6, 8, 8, 8, 8, 8, 9, 10, 11, 11, 11, 12, 13, 14, 14, 14, 14, 14, 14, 14, 15, 15, 15, 15, 15, 16, 16, 17, 19, 19, 19, 19, 19]\n",
      "[0, 0, 0, 0, 0, 0, 0, 0, 0, 0, 0, 0, 0, 1, 1, 1, 1, 1, 1, 1, 1, 1, 1, 3, 3, 3, 3, 3, 3, 4, 4, 5, 6, 6, 6, 6, 6, 8, 8, 8, 8, 8, 9, 10, 11, 11, 11, 12, 13, 14, 14, 14, 14, 14, 14, 14, 15, 15, 15, 15, 15, 16, 16, 17, 19, 19, 19, 19, 19, 19]\n",
      "[0, 0, 0, 0, 0, 0, 0, 0, 0, 0, 0, 0, 0, 1, 1, 1, 1, 1, 1, 1, 1, 1, 1, 3, 3, 3, 3, 3, 3, 4, 4, 5, 6, 6, 6, 6, 6, 8, 8, 8, 8, 8, 9, 10, 11, 11, 11, 12, 13, 14, 14, 14, 14, 14, 14, 14, 15, 15, 15, 15, 15, 16, 16, 17, 19, 19, 19, 19, 19, 19, 19]\n",
      "[0, 0, 0, 0, 0, 0, 0, 0, 0, 0, 0, 0, 0, 1, 1, 1, 1, 1, 1, 1, 1, 1, 1, 3, 3, 3, 3, 3, 3, 4, 4, 5, 6, 6, 6, 6, 6, 8, 8, 8, 8, 8, 9, 10, 11, 11, 11, 12, 13, 14, 14, 14, 14, 14, 14, 14, 15, 15, 15, 15, 15, 16, 16, 17, 19, 19, 19, 19, 19, 19, 19, 20]\n",
      "[0, 0, 0, 0, 0, 0, 0, 0, 0, 0, 0, 0, 0, 1, 1, 1, 1, 1, 1, 1, 1, 1, 1, 3, 3, 3, 3, 3, 3, 4, 4, 5, 6, 6, 6, 6, 6, 8, 8, 8, 8, 8, 9, 10, 11, 11, 11, 12, 13, 14, 14, 14, 14, 14, 14, 14, 15, 15, 15, 15, 15, 16, 16, 17, 19, 19, 19, 19, 19, 19, 19, 20, 20]\n",
      "[0, 0, 0, 0, 0, 0, 0, 0, 0, 0, 0, 0, 0, 1, 1, 1, 1, 1, 1, 1, 1, 1, 1, 3, 3, 3, 3, 3, 3, 4, 4, 5, 6, 6, 6, 6, 6, 8, 8, 8, 8, 8, 9, 10, 11, 11, 11, 12, 13, 14, 14, 14, 14, 14, 14, 14, 15, 15, 15, 15, 15, 16, 16, 17, 19, 19, 19, 19, 19, 19, 19, 20, 20, 21]\n",
      "[0, 0, 0, 0, 0, 0, 0, 0, 0, 0, 0, 0, 0, 1, 1, 1, 1, 1, 1, 1, 1, 1, 1, 3, 3, 3, 3, 3, 3, 4, 4, 5, 6, 6, 6, 6, 6, 8, 8, 8, 8, 8, 9, 10, 11, 11, 11, 12, 13, 14, 14, 14, 14, 14, 14, 14, 15, 15, 15, 15, 15, 16, 16, 17, 19, 19, 19, 19, 19, 19, 19, 20, 20, 21, 21]\n",
      "[0, 0, 0, 0, 0, 0, 0, 0, 0, 0, 0, 0, 0, 1, 1, 1, 1, 1, 1, 1, 1, 1, 1, 3, 3, 3, 3, 3, 3, 4, 4, 5, 6, 6, 6, 6, 6, 8, 8, 8, 8, 8, 9, 10, 11, 11, 11, 12, 13, 14, 14, 14, 14, 14, 14, 14, 15, 15, 15, 15, 15, 16, 16, 17, 19, 19, 19, 19, 19, 19, 19, 20, 20, 21, 21, 22]\n",
      "[0, 0, 0, 0, 0, 0, 0, 0, 0, 0, 0, 0, 0, 1, 1, 1, 1, 1, 1, 1, 1, 1, 1, 3, 3, 3, 3, 3, 3, 4, 4, 5, 6, 6, 6, 6, 6, 8, 8, 8, 8, 8, 9, 10, 11, 11, 11, 12, 13, 14, 14, 14, 14, 14, 14, 14, 15, 15, 15, 15, 15, 16, 16, 17, 19, 19, 19, 19, 19, 19, 19, 20, 20, 21, 21, 22, 23]\n",
      "[0, 0, 0, 0, 0, 0, 0, 0, 0, 0, 0, 0, 0, 1, 1, 1, 1, 1, 1, 1, 1, 1, 1, 3, 3, 3, 3, 3, 3, 4, 4, 5, 6, 6, 6, 6, 6, 8, 8, 8, 8, 8, 9, 10, 11, 11, 11, 12, 13, 14, 14, 14, 14, 14, 14, 14, 15, 15, 15, 15, 15, 16, 16, 17, 19, 19, 19, 19, 19, 19, 19, 20, 20, 21, 21, 22, 23, 24]\n",
      "[0, 0, 0, 0, 0, 0, 0, 0, 0, 0, 0, 0, 0, 1, 1, 1, 1, 1, 1, 1, 1, 1, 1, 3, 3, 3, 3, 3, 3, 4, 4, 5, 6, 6, 6, 6, 6, 8, 8, 8, 8, 8, 9, 10, 11, 11, 11, 12, 13, 14, 14, 14, 14, 14, 14, 14, 15, 15, 15, 15, 15, 16, 16, 17, 19, 19, 19, 19, 19, 19, 19, 20, 20, 21, 21, 22, 23, 24, 25]\n",
      "[0, 0, 0, 0, 0, 0, 0, 0, 0, 0, 0, 0, 0, 1, 1, 1, 1, 1, 1, 1, 1, 1, 1, 3, 3, 3, 3, 3, 3, 4, 4, 5, 6, 6, 6, 6, 6, 8, 8, 8, 8, 8, 9, 10, 11, 11, 11, 12, 13, 14, 14, 14, 14, 14, 14, 14, 15, 15, 15, 15, 15, 16, 16, 17, 19, 19, 19, 19, 19, 19, 19, 20, 20, 21, 21, 22, 23, 24, 25, 25]\n",
      "[0, 0, 0, 0, 0, 0, 0, 0, 0, 0, 0, 0, 0, 1, 1, 1, 1, 1, 1, 1, 1, 1, 1, 3, 3, 3, 3, 3, 3, 4, 4, 5, 6, 6, 6, 6, 6, 8, 8, 8, 8, 8, 9, 10, 11, 11, 11, 12, 13, 14, 14, 14, 14, 14, 14, 14, 15, 15, 15, 15, 15, 16, 16, 17, 19, 19, 19, 19, 19, 19, 19, 20, 20, 21, 21, 22, 23, 24, 25, 25, 25]\n",
      "[0, 0, 0, 0, 0, 0, 0, 0, 0, 0, 0, 0, 0, 1, 1, 1, 1, 1, 1, 1, 1, 1, 1, 3, 3, 3, 3, 3, 3, 4, 4, 5, 6, 6, 6, 6, 6, 8, 8, 8, 8, 8, 9, 10, 11, 11, 11, 12, 13, 14, 14, 14, 14, 14, 14, 14, 15, 15, 15, 15, 15, 16, 16, 17, 19, 19, 19, 19, 19, 19, 19, 20, 20, 21, 21, 22, 23, 24, 25, 25, 25, 25]\n",
      "[0, 0, 0, 0, 0, 0, 0, 0, 0, 0, 0, 0, 0, 1, 1, 1, 1, 1, 1, 1, 1, 1, 1, 3, 3, 3, 3, 3, 3, 4, 4, 5, 6, 6, 6, 6, 6, 8, 8, 8, 8, 8, 9, 10, 11, 11, 11, 12, 13, 14, 14, 14, 14, 14, 14, 14, 15, 15, 15, 15, 15, 16, 16, 17, 19, 19, 19, 19, 19, 19, 19, 20, 20, 21, 21, 22, 23, 24, 25, 25, 25, 25, 25]\n",
      "[0, 0, 0, 0, 0, 0, 0, 0, 0, 0, 0, 0, 0, 1, 1, 1, 1, 1, 1, 1, 1, 1, 1, 3, 3, 3, 3, 3, 3, 4, 4, 5, 6, 6, 6, 6, 6, 8, 8, 8, 8, 8, 9, 10, 11, 11, 11, 12, 13, 14, 14, 14, 14, 14, 14, 14, 15, 15, 15, 15, 15, 16, 16, 17, 19, 19, 19, 19, 19, 19, 19, 20, 20, 21, 21, 22, 23, 24, 25, 25, 25, 25, 25, 26]\n",
      "[0, 0, 0, 0, 0, 0, 0, 0, 0, 0, 0, 0, 0, 1, 1, 1, 1, 1, 1, 1, 1, 1, 1, 3, 3, 3, 3, 3, 3, 4, 4, 5, 6, 6, 6, 6, 6, 8, 8, 8, 8, 8, 9, 10, 11, 11, 11, 12, 13, 14, 14, 14, 14, 14, 14, 14, 15, 15, 15, 15, 15, 16, 16, 17, 19, 19, 19, 19, 19, 19, 19, 20, 20, 21, 21, 22, 23, 24, 25, 25, 25, 25, 25, 26, 27]\n",
      "[0, 0, 0, 0, 0, 0, 0, 0, 0, 0, 0, 0, 0, 1, 1, 1, 1, 1, 1, 1, 1, 1, 1, 3, 3, 3, 3, 3, 3, 4, 4, 5, 6, 6, 6, 6, 6, 8, 8, 8, 8, 8, 9, 10, 11, 11, 11, 12, 13, 14, 14, 14, 14, 14, 14, 14, 15, 15, 15, 15, 15, 16, 16, 17, 19, 19, 19, 19, 19, 19, 19, 20, 20, 21, 21, 22, 23, 24, 25, 25, 25, 25, 25, 26, 27, 27]\n",
      "[0, 0, 0, 0, 0, 0, 0, 0, 0, 0, 0, 0, 0, 1, 1, 1, 1, 1, 1, 1, 1, 1, 1, 3, 3, 3, 3, 3, 3, 4, 4, 5, 6, 6, 6, 6, 6, 8, 8, 8, 8, 8, 9, 10, 11, 11, 11, 12, 13, 14, 14, 14, 14, 14, 14, 14, 15, 15, 15, 15, 15, 16, 16, 17, 19, 19, 19, 19, 19, 19, 19, 20, 20, 21, 21, 22, 23, 24, 25, 25, 25, 25, 25, 26, 27, 27, 27]\n",
      "[0, 0, 0, 0, 0, 0, 0, 0, 0, 0, 0, 0, 0, 1, 1, 1, 1, 1, 1, 1, 1, 1, 1, 3, 3, 3, 3, 3, 3, 4, 4, 5, 6, 6, 6, 6, 6, 8, 8, 8, 8, 8, 9, 10, 11, 11, 11, 12, 13, 14, 14, 14, 14, 14, 14, 14, 15, 15, 15, 15, 15, 16, 16, 17, 19, 19, 19, 19, 19, 19, 19, 20, 20, 21, 21, 22, 23, 24, 25, 25, 25, 25, 25, 26, 27, 27, 27, 27]\n",
      "[0, 0, 0, 0, 0, 0, 0, 0, 0, 0, 0, 0, 0, 1, 1, 1, 1, 1, 1, 1, 1, 1, 1, 3, 3, 3, 3, 3, 3, 4, 4, 5, 6, 6, 6, 6, 6, 8, 8, 8, 8, 8, 9, 10, 11, 11, 11, 12, 13, 14, 14, 14, 14, 14, 14, 14, 15, 15, 15, 15, 15, 16, 16, 17, 19, 19, 19, 19, 19, 19, 19, 20, 20, 21, 21, 22, 23, 24, 25, 25, 25, 25, 25, 26, 27, 27, 27, 27, 28]\n",
      "[0, 0, 0, 0, 0, 0, 0, 0, 0, 0, 0, 0, 0, 1, 1, 1, 1, 1, 1, 1, 1, 1, 1, 3, 3, 3, 3, 3, 3, 4, 4, 5, 6, 6, 6, 6, 6, 8, 8, 8, 8, 8, 9, 10, 11, 11, 11, 12, 13, 14, 14, 14, 14, 14, 14, 14, 15, 15, 15, 15, 15, 16, 16, 17, 19, 19, 19, 19, 19, 19, 19, 20, 20, 21, 21, 22, 23, 24, 25, 25, 25, 25, 25, 26, 27, 27, 27, 27, 28, 29]\n",
      "[0, 0, 0, 0, 0, 0, 0, 0, 0, 0, 0, 0, 0, 1, 1, 1, 1, 1, 1, 1, 1, 1, 1, 3, 3, 3, 3, 3, 3, 4, 4, 5, 6, 6, 6, 6, 6, 8, 8, 8, 8, 8, 9, 10, 11, 11, 11, 12, 13, 14, 14, 14, 14, 14, 14, 14, 15, 15, 15, 15, 15, 16, 16, 17, 19, 19, 19, 19, 19, 19, 19, 20, 20, 21, 21, 22, 23, 24, 25, 25, 25, 25, 25, 26, 27, 27, 27, 27, 28, 29, 29]\n",
      "[0, 0, 0, 0, 0, 0, 0, 0, 0, 0, 0, 0, 0, 1, 1, 1, 1, 1, 1, 1, 1, 1, 1, 3, 3, 3, 3, 3, 3, 4, 4, 5, 6, 6, 6, 6, 6, 8, 8, 8, 8, 8, 9, 10, 11, 11, 11, 12, 13, 14, 14, 14, 14, 14, 14, 14, 15, 15, 15, 15, 15, 16, 16, 17, 19, 19, 19, 19, 19, 19, 19, 20, 20, 21, 21, 22, 23, 24, 25, 25, 25, 25, 25, 26, 27, 27, 27, 27, 28, 29, 29, 30]\n",
      "[0, 0, 0, 0, 0, 0, 0, 0, 0, 0, 0, 0, 0, 1, 1, 1, 1, 1, 1, 1, 1, 1, 1, 3, 3, 3, 3, 3, 3, 4, 4, 5, 6, 6, 6, 6, 6, 8, 8, 8, 8, 8, 9, 10, 11, 11, 11, 12, 13, 14, 14, 14, 14, 14, 14, 14, 15, 15, 15, 15, 15, 16, 16, 17, 19, 19, 19, 19, 19, 19, 19, 20, 20, 21, 21, 22, 23, 24, 25, 25, 25, 25, 25, 26, 27, 27, 27, 27, 28, 29, 29, 30, 30]\n",
      "[0, 0, 0, 0, 0, 0, 0, 0, 0, 0, 0, 0, 0, 1, 1, 1, 1, 1, 1, 1, 1, 1, 1, 3, 3, 3, 3, 3, 3, 4, 4, 5, 6, 6, 6, 6, 6, 8, 8, 8, 8, 8, 9, 10, 11, 11, 11, 12, 13, 14, 14, 14, 14, 14, 14, 14, 15, 15, 15, 15, 15, 16, 16, 17, 19, 19, 19, 19, 19, 19, 19, 20, 20, 21, 21, 22, 23, 24, 25, 25, 25, 25, 25, 26, 27, 27, 27, 27, 28, 29, 29, 30, 30, 30]\n",
      "[0, 0, 0, 0, 0, 0, 0, 0, 0, 0, 0, 0, 0, 1, 1, 1, 1, 1, 1, 1, 1, 1, 1, 3, 3, 3, 3, 3, 3, 4, 4, 5, 6, 6, 6, 6, 6, 8, 8, 8, 8, 8, 9, 10, 11, 11, 11, 12, 13, 14, 14, 14, 14, 14, 14, 14, 15, 15, 15, 15, 15, 16, 16, 17, 19, 19, 19, 19, 19, 19, 19, 20, 20, 21, 21, 22, 23, 24, 25, 25, 25, 25, 25, 26, 27, 27, 27, 27, 28, 29, 29, 30, 30, 30, 30]\n",
      "[0, 0, 0, 0, 0, 0, 0, 0, 0, 0, 0, 0, 0, 1, 1, 1, 1, 1, 1, 1, 1, 1, 1, 3, 3, 3, 3, 3, 3, 4, 4, 5, 6, 6, 6, 6, 6, 8, 8, 8, 8, 8, 9, 10, 11, 11, 11, 12, 13, 14, 14, 14, 14, 14, 14, 14, 15, 15, 15, 15, 15, 16, 16, 17, 19, 19, 19, 19, 19, 19, 19, 20, 20, 21, 21, 22, 23, 24, 25, 25, 25, 25, 25, 26, 27, 27, 27, 27, 28, 29, 29, 30, 30, 30, 30, 30]\n",
      "[0, 0, 0, 0, 0, 0, 0, 0, 0, 0, 0, 0, 0, 1, 1, 1, 1, 1, 1, 1, 1, 1, 1, 3, 3, 3, 3, 3, 3, 4, 4, 5, 6, 6, 6, 6, 6, 8, 8, 8, 8, 8, 9, 10, 11, 11, 11, 12, 13, 14, 14, 14, 14, 14, 14, 14, 15, 15, 15, 15, 15, 16, 16, 17, 19, 19, 19, 19, 19, 19, 19, 20, 20, 21, 21, 22, 23, 24, 25, 25, 25, 25, 25, 26, 27, 27, 27, 27, 28, 29, 29, 30, 30, 30, 30, 30, 30]\n",
      "[0, 0, 0, 0, 0, 0, 0, 0, 0, 0, 0, 0, 0, 1, 1, 1, 1, 1, 1, 1, 1, 1, 1, 3, 3, 3, 3, 3, 3, 4, 4, 5, 6, 6, 6, 6, 6, 8, 8, 8, 8, 8, 9, 10, 11, 11, 11, 12, 13, 14, 14, 14, 14, 14, 14, 14, 15, 15, 15, 15, 15, 16, 16, 17, 19, 19, 19, 19, 19, 19, 19, 20, 20, 21, 21, 22, 23, 24, 25, 25, 25, 25, 25, 26, 27, 27, 27, 27, 28, 29, 29, 30, 30, 30, 30, 30, 30, 31]\n",
      "[0, 0, 0, 0, 0, 0, 0, 0, 0, 0, 0, 0, 0, 1, 1, 1, 1, 1, 1, 1, 1, 1, 1, 3, 3, 3, 3, 3, 3, 4, 4, 5, 6, 6, 6, 6, 6, 8, 8, 8, 8, 8, 9, 10, 11, 11, 11, 12, 13, 14, 14, 14, 14, 14, 14, 14, 15, 15, 15, 15, 15, 16, 16, 17, 19, 19, 19, 19, 19, 19, 19, 20, 20, 21, 21, 22, 23, 24, 25, 25, 25, 25, 25, 26, 27, 27, 27, 27, 28, 29, 29, 30, 30, 30, 30, 30, 30, 31, 31]\n",
      "[0, 0, 0, 0, 0, 0, 0, 0, 0, 0, 0, 0, 0, 1, 1, 1, 1, 1, 1, 1, 1, 1, 1, 3, 3, 3, 3, 3, 3, 4, 4, 5, 6, 6, 6, 6, 6, 8, 8, 8, 8, 8, 9, 10, 11, 11, 11, 12, 13, 14, 14, 14, 14, 14, 14, 14, 15, 15, 15, 15, 15, 16, 16, 17, 19, 19, 19, 19, 19, 19, 19, 20, 20, 21, 21, 22, 23, 24, 25, 25, 25, 25, 25, 26, 27, 27, 27, 27, 28, 29, 29, 30, 30, 30, 30, 30, 30, 31, 31, 32]\n",
      "[0, 0, 0, 0, 0, 0, 0, 0, 0, 0, 0, 0, 0, 1, 1, 1, 1, 1, 1, 1, 1, 1, 1, 3, 3, 3, 3, 3, 3, 4, 4, 5, 6, 6, 6, 6, 6, 8, 8, 8, 8, 8, 9, 10, 11, 11, 11, 12, 13, 14, 14, 14, 14, 14, 14, 14, 15, 15, 15, 15, 15, 16, 16, 17, 19, 19, 19, 19, 19, 19, 19, 20, 20, 21, 21, 22, 23, 24, 25, 25, 25, 25, 25, 26, 27, 27, 27, 27, 28, 29, 29, 30, 30, 30, 30, 30, 30, 31, 31, 32, 32]\n"
     ]
    }
   ],
   "source": [
    "from re import A\n",
    "import numpy as np\n",
    "\n",
    "res = {}\n",
    "\n",
    "list_tp, list_fn, list_fp, list_tn = [], [], [], []\n",
    "\n",
    "\n",
    "for threshold in thresholds:\n",
    "    list_tp.append(0)\n",
    "    list_fn.append(0)\n",
    "    list_fp.append(0)\n",
    "    list_tn.append(0)\n",
    "\n",
    "    for index, instance in df.iterrows():\n",
    "        actual = instance[\"Has NPH?\"]\n",
    "        prediction = instance[\"Manual Threshold - Ventricular Volume\"]\n",
    "        pred = True if instance['Ventricular Volume (mm^3)'] > threshold else False\n",
    "        res.setdefault(threshold, []).append(pred)\n",
    "\n",
    "        if actual == \"TRUE\" and pred == True:\n",
    "            list_tp[-1] += 1\n",
    "        elif actual == \"FALSE\" and pred == False:\n",
    "            list_tn[-1] += 1\n",
    "        elif actual == \"TRUE\" and pred == False:\n",
    "            list_fn[-1] += 1\n",
    "        elif actual == \"FALSE\" and pred  == True:\n",
    "            list_fp[-1] += 1\n",
    "\n",
    "    print(list_fn)\n"
   ]
  },
  {
   "cell_type": "code",
   "execution_count": 51,
   "metadata": {},
   "outputs": [],
   "source": [
    "list_tpr = []\n",
    "list_fpr = []\n",
    "for i in range(len(list_fp)):\n",
    "    list_tpr.append(list_tp[i]/(list_tp[i]+list_fn[i]))\n",
    "    list_fpr.append(list_fp[i]/(list_tn[i]+list_fp[i]))"
   ]
  },
  {
   "cell_type": "code",
   "execution_count": 52,
   "metadata": {},
   "outputs": [
    {
     "data": {
      "text/plain": [
       "0.9495980210265925"
      ]
     },
     "execution_count": 52,
     "metadata": {},
     "output_type": "execute_result"
    },
    {
     "data": {
      "image/png": "[encoded data removed]",
      "text/plain": [
       "<Figure size 432x288 with 1 Axes>"
      ]
     },
     "metadata": {
      "needs_background": "light"
     },
     "output_type": "display_data"
    }
   ],
   "source": [
    "import matplotlib.pyplot as plt\n",
    "from sklearn import metrics\n",
    "\n",
    "plt.plot(list_fpr, list_tpr, \".\")\n",
    "plt.xlabel('False Positive Rate')\n",
    "plt.ylabel('True Positive Rate')\n",
    "plt.title('ROC Curve')\n",
    "\n",
    "metrics.auc(list_fpr, list_tpr)"
   ]
  },
  {
   "cell_type": "code",
   "execution_count": 62,
   "metadata": {},
   "outputs": [
    {
     "name": "stdout",
     "output_type": "stream",
     "text": [
      "Indices: [0, 1, 2, 3, 4, 5, 6, 7, 8, 9, 10, 11, 12, 13, 14, 15, 16, 17, 18, 19, 20, 21, 22, 23, 24, 25, 26, 27, 28, 29, 30, 31, 32, 33, 34, 35, 36, 37, 38, 39, 40, 41, 42, 43, 44, 45, 46, 47, 48, 49, 50, 51, 52, 53, 54, 55, 56, 57, 58, 59, 60, 61, 62, 63, 64, 65, 66, 67, 68, 69, 70, 71, 72, 73, 74, 75, 76, 77, 78, 79, 80, 81, 82, 83, 84, 85, 86, 87, 88, 89, 90, 91, 92, 93, 94, 95, 96, 97, 98, 99, 100]\n",
      "Accuracy: [0.4024390243902439, 0.4146341463414634, 0.4268292682926829, 0.45121951219512196, 0.4634146341463415, 0.4878048780487805, 0.4878048780487805, 0.5121951219512195, 0.5487804878048781, 0.5975609756097561, 0.6097560975609756, 0.6341463414634146, 0.6341463414634146, 0.6463414634146342, 0.6585365853658537, 0.6585365853658537, 0.6585365853658537, 0.6707317073170732, 0.6951219512195121, 0.7195121951219512, 0.7317073170731707, 0.7439024390243902, 0.8048780487804879, 0.7926829268292683, 0.8048780487804879, 0.8170731707317073, 0.8536585365853658, 0.8658536585365854, 0.8780487804878049, 0.8780487804878049, 0.8780487804878049, 0.8780487804878049, 0.8658536585365854, 0.8658536585365854, 0.8658536585365854, 0.9024390243902439, 0.9024390243902439, 0.8780487804878049, 0.8780487804878049, 0.8902439024390244, 0.8902439024390244, 0.8902439024390244, 0.8780487804878049, 0.8658536585365854, 0.8658536585365854, 0.8658536585365854, 0.8658536585365854, 0.8536585365853658, 0.8414634146341463, 0.8292682926829268, 0.8292682926829268, 0.8292682926829268, 0.8292682926829268, 0.8292682926829268, 0.8292682926829268, 0.8292682926829268, 0.8170731707317073, 0.8170731707317073, 0.8170731707317073, 0.8170731707317073, 0.8170731707317073, 0.8048780487804879, 0.8048780487804879, 0.7926829268292683, 0.7682926829268293, 0.7682926829268293, 0.7682926829268293, 0.7682926829268293, 0.7682926829268293, 0.7682926829268293, 0.7682926829268293, 0.7560975609756098, 0.7560975609756098, 0.7439024390243902, 0.7439024390243902, 0.7317073170731707, 0.7195121951219512, 0.7073170731707317, 0.6951219512195121, 0.6951219512195121, 0.6951219512195121, 0.6951219512195121, 0.6951219512195121, 0.6829268292682927, 0.6707317073170732, 0.6707317073170732, 0.6707317073170732, 0.6707317073170732, 0.6585365853658537, 0.6463414634146342, 0.6463414634146342, 0.6341463414634146, 0.6341463414634146, 0.6341463414634146, 0.6341463414634146, 0.6341463414634146, 0.6341463414634146, 0.6219512195121951, 0.6219512195121951, 0.6097560975609756, 0.6097560975609756]\n",
      "Precision: [0.4024390243902439, 0.4074074074074074, 0.4125, 0.4230769230769231, 0.42857142857142855, 0.44, 0.44, 0.4520547945205479, 0.4714285714285714, 0.5, 0.5076923076923077, 0.5238095238095238, 0.5238095238095238, 0.5333333333333333, 0.5423728813559322, 0.5423728813559322, 0.5423728813559322, 0.5517241379310345, 0.5714285714285714, 0.5925925925925926, 0.6037735849056604, 0.6153846153846154, 0.6808510638297872, 0.6818181818181818, 0.6976744186046512, 0.7142857142857143, 0.7692307692307693, 0.7894736842105263, 0.8108108108108109, 0.8285714285714286, 0.8285714285714286, 0.8484848484848485, 0.84375, 0.84375, 0.84375, 0.9310344827586207, 0.9310344827586207, 0.9259259259259259, 0.9259259259259259, 0.9615384615384616, 0.9615384615384616, 0.9615384615384616, 0.96, 0.9583333333333334, 1.0, 1.0, 1.0, 1.0, 1.0, 1.0, 1.0, 1.0, 1.0, 1.0, 1.0, 1.0, 1.0, 1.0, 1.0, 1.0, 1.0, 1.0, 1.0, 1.0, 1.0, 1.0, 1.0, 1.0, 1.0, 1.0, 1.0, 1.0, 1.0, 1.0, 1.0, 1.0, 1.0, 1.0, 1.0, 1.0, 1.0, 1.0, 1.0, 1.0, 1.0, 1.0, 1.0, 1.0, 1.0, 1.0, 1.0, 1.0, 1.0, 1.0, 1.0, 1.0, 1.0, 1.0, 1.0, 1.0, 1.0]\n",
      "Recall: [1.0, 1.0, 1.0, 1.0, 1.0, 1.0, 1.0, 1.0, 1.0, 1.0, 1.0, 1.0, 1.0, 0.9696969696969697, 0.9696969696969697, 0.9696969696969697, 0.9696969696969697, 0.9696969696969697, 0.9696969696969697, 0.9696969696969697, 0.9696969696969697, 0.9696969696969697, 0.9696969696969697, 0.9090909090909091, 0.9090909090909091, 0.9090909090909091, 0.9090909090909091, 0.9090909090909091, 0.9090909090909091, 0.8787878787878788, 0.8787878787878788, 0.8484848484848485, 0.8181818181818182, 0.8181818181818182, 0.8181818181818182, 0.8181818181818182, 0.8181818181818182, 0.7575757575757576, 0.7575757575757576, 0.7575757575757576, 0.7575757575757576, 0.7575757575757576, 0.7272727272727273, 0.696969696969697, 0.6666666666666666, 0.6666666666666666, 0.6666666666666666, 0.6363636363636364, 0.6060606060606061, 0.5757575757575758, 0.5757575757575758, 0.5757575757575758, 0.5757575757575758, 0.5757575757575758, 0.5757575757575758, 0.5757575757575758, 0.5454545454545454, 0.5454545454545454, 0.5454545454545454, 0.5454545454545454, 0.5454545454545454, 0.5151515151515151, 0.5151515151515151, 0.48484848484848486, 0.42424242424242425, 0.42424242424242425, 0.42424242424242425, 0.42424242424242425, 0.42424242424242425, 0.42424242424242425, 0.42424242424242425, 0.3939393939393939, 0.3939393939393939, 0.36363636363636365, 0.36363636363636365, 0.3333333333333333, 0.30303030303030304, 0.2727272727272727, 0.24242424242424243, 0.24242424242424243, 0.24242424242424243, 0.24242424242424243, 0.24242424242424243, 0.21212121212121213, 0.18181818181818182, 0.18181818181818182, 0.18181818181818182, 0.18181818181818182, 0.15151515151515152, 0.12121212121212122, 0.12121212121212122, 0.09090909090909091, 0.09090909090909091, 0.09090909090909091, 0.09090909090909091, 0.09090909090909091, 0.09090909090909091, 0.06060606060606061, 0.06060606060606061, 0.030303030303030304, 0.030303030303030304]\n",
      "Specificity: [0.0, 0.02040816326530612, 0.04081632653061224, 0.08163265306122448, 0.10204081632653061, 0.14285714285714285, 0.14285714285714285, 0.1836734693877551, 0.24489795918367346, 0.32653061224489793, 0.3469387755102041, 0.3877551020408163, 0.3877551020408163, 0.42857142857142855, 0.4489795918367347, 0.4489795918367347, 0.4489795918367347, 0.46938775510204084, 0.5102040816326531, 0.5510204081632653, 0.5714285714285714, 0.5918367346938775, 0.6938775510204082, 0.7142857142857143, 0.7346938775510204, 0.7551020408163265, 0.8163265306122449, 0.8367346938775511, 0.8571428571428571, 0.8775510204081632, 0.8775510204081632, 0.8979591836734694, 0.8979591836734694, 0.8979591836734694, 0.8979591836734694, 0.9591836734693877, 0.9591836734693877, 0.9591836734693877, 0.9591836734693877, 0.9795918367346939, 0.9795918367346939, 0.9795918367346939, 0.9795918367346939, 0.9795918367346939, 1.0, 1.0, 1.0, 1.0, 1.0, 1.0, 1.0, 1.0, 1.0, 1.0, 1.0, 1.0, 1.0, 1.0, 1.0, 1.0, 1.0, 1.0, 1.0, 1.0, 1.0, 1.0, 1.0, 1.0, 1.0, 1.0, 1.0, 1.0, 1.0, 1.0, 1.0, 1.0, 1.0, 1.0, 1.0, 1.0, 1.0, 1.0, 1.0, 1.0, 1.0, 1.0, 1.0, 1.0, 1.0, 1.0, 1.0, 1.0, 1.0, 1.0, 1.0, 1.0, 1.0, 1.0, 1.0, 1.0, 1.0]\n"
     ]
    }
   ],
   "source": [
    "#metrics\n",
    "\n",
    "list_indices = []\n",
    "list_thresholds = []\n",
    "list_accuracies = []\n",
    "list_precisions = []\n",
    "list_recalls = []\n",
    "list_specificities = []\n",
    "\n",
    "\n",
    "for i in range(len(list_tp)):\n",
    "\n",
    "    list_indices.append(i)\n",
    "\n",
    "    accuracy = (list_tp[i] + list_tn[i]) / (list_tn[i] + list_fn[i] + list_fp[i] + list_tp[i])\n",
    "    list_accuracies.append(accuracy)\n",
    "\n",
    "    precision = (list_tp[i]/(list_fp[i]+list_tp[i]))\n",
    "    list_precisions.append(precision)\n",
    "\n",
    "    recall = (list_tp[i]/(list_fn[i]+list_tp[i]))\n",
    "    list_recalls.append(recall)\n",
    "\n",
    "    specificity = (list_tn[i]/(list_fp[i]+list_tn[i]))\n",
    "    list_specificities.append(specificity)\n",
    "\n",
    "\n",
    "print(\"Indices: \" + str(list_indices))\n",
    "\n",
    "print(\"Accuracy: \" + str(list_accuracies))\n",
    "\n",
    "print(\"Precision: \" + str(list_precisions))\n",
    "\n",
    "print(\"Recall: \" + str(list_recalls))\n",
    "\n",
    "print(\"Specificity: \" + str(list_specificities))"
   ]
  },
  {
   "cell_type": "code",
   "execution_count": 54,
   "metadata": {},
   "outputs": [
    {
     "data": {
      "text/plain": [
       "66"
      ]
     },
     "execution_count": 54,
     "metadata": {},
     "output_type": "execute_result"
    }
   ],
   "source": [
    "import numpy as np\n",
    "np.argmax(list_fpr[::-1][:70])"
   ]
  },
  {
   "cell_type": "code",
   "execution_count": 55,
   "metadata": {},
   "outputs": [
    {
     "data": {
      "text/plain": [
       "(0.7575757575757576, 0.04081632653061224)"
      ]
     },
     "execution_count": 55,
     "metadata": {},
     "output_type": "execute_result"
    }
   ],
   "source": [
    "list_tpr[::-1][62], list_fpr[::-1][62]"
   ]
  },
  {
   "cell_type": "code",
   "execution_count": 56,
   "metadata": {},
   "outputs": [
    {
     "data": {
      "text/plain": [
       "(0.8181818181818182, 0.10204081632653061)"
      ]
     },
     "execution_count": 56,
     "metadata": {},
     "output_type": "execute_result"
    }
   ],
   "source": [
    "list_tpr[::-1][66], list_fpr[::-1][66]"
   ]
  },
  {
   "cell_type": "code",
   "execution_count": 64,
   "metadata": {},
   "outputs": [
    {
     "data": {
      "text/plain": [
       "'[1.0, 0.9795918367346939, 0.9591836734693877, 0.9183673469387755, 0.8979591836734694, 0.8571428571428571, 0.8571428571428571, 0.8163265306122449, 0.7551020408163265, 0.673469387755102, 0.6530612244897959, 0.6122448979591837, 0.6122448979591837, 0.5714285714285714, 0.5510204081632653, 0.5510204081632653, 0.5510204081632653, 0.5306122448979592, 0.4897959183673469, 0.4489795918367347, 0.42857142857142855, 0.40816326530612246, 0.30612244897959184, 0.2857142857142857, 0.2653061224489796, 0.24489795918367346, 0.1836734693877551, 0.16326530612244897, 0.14285714285714285, 0.12244897959183673, 0.12244897959183673, 0.10204081632653061, 0.10204081632653061, 0.10204081632653061, 0.10204081632653061, 0.04081632653061224, 0.04081632653061224, 0.04081632653061224, 0.04081632653061224, 0.02040816326530612, 0.02040816326530612, 0.02040816326530612, 0.02040816326530612, 0.02040816326530612, 0.0, 0.0, 0.0, 0.0, 0.0, 0.0, 0.0, 0.0, 0.0, 0.0, 0.0, 0.0, 0.0, 0.0, 0.0, 0.0, 0.0, 0.0, 0.0, 0.0, 0.0, 0.0, 0.0, 0.0, 0.0, 0.0, 0.0, 0.0, 0.0, 0.0, 0.0, 0.0, 0.0, 0.0, 0.0, 0.0, 0.0, 0.0, 0.0, 0.0, 0.0, 0.0, 0.0, 0.0, 0.0, 0.0, 0.0, 0.0, 0.0, 0.0, 0.0, 0.0, 0.0, 0.0, 0.0, 0.0, 0.0]'"
      ]
     },
     "execution_count": 64,
     "metadata": {},
     "output_type": "execute_result"
    }
   ],
   "source": [
    "str(list_fpr)"
   ]
  },
  {
   "cell_type": "code",
   "execution_count": 58,
   "metadata": {},
   "outputs": [
    {
     "data": {
      "text/plain": [
       "0.10204081632653061"
      ]
     },
     "execution_count": 58,
     "metadata": {},
     "output_type": "execute_result"
    }
   ],
   "source": [
    "max(list_fpr[::-1][:70])"
   ]
  },
  {
   "cell_type": "code",
   "execution_count": 66,
   "metadata": {},
   "outputs": [
    {
     "data": {
      "text/plain": [
       "'[1.0, 1.0, 1.0, 1.0, 1.0, 1.0, 1.0, 1.0, 1.0, 1.0, 1.0, 1.0, 1.0, 0.9696969696969697, 0.9696969696969697, 0.9696969696969697, 0.9696969696969697, 0.9696969696969697, 0.9696969696969697, 0.9696969696969697, 0.9696969696969697, 0.9696969696969697, 0.9696969696969697, 0.9090909090909091, 0.9090909090909091, 0.9090909090909091, 0.9090909090909091, 0.9090909090909091, 0.9090909090909091, 0.8787878787878788, 0.8787878787878788, 0.8484848484848485, 0.8181818181818182, 0.8181818181818182, 0.8181818181818182, 0.8181818181818182, 0.8181818181818182, 0.7575757575757576, 0.7575757575757576, 0.7575757575757576, 0.7575757575757576, 0.7575757575757576, 0.7272727272727273, 0.696969696969697, 0.6666666666666666, 0.6666666666666666, 0.6666666666666666, 0.6363636363636364, 0.6060606060606061, 0.5757575757575758, 0.5757575757575758, 0.5757575757575758, 0.5757575757575758, 0.5757575757575758, 0.5757575757575758, 0.5757575757575758, 0.5454545454545454, 0.5454545454545454, 0.5454545454545454, 0.5454545454545454, 0.5454545454545454, 0.5151515151515151, 0.5151515151515151, 0.48484848484848486, 0.42424242424242425, 0.42424242424242425, 0.42424242424242425, 0.42424242424242425, 0.42424242424242425, 0.42424242424242425, 0.42424242424242425, 0.3939393939393939, 0.3939393939393939, 0.36363636363636365, 0.36363636363636365, 0.3333333333333333, 0.30303030303030304, 0.2727272727272727, 0.24242424242424243, 0.24242424242424243, 0.24242424242424243, 0.24242424242424243, 0.24242424242424243, 0.21212121212121213, 0.18181818181818182, 0.18181818181818182, 0.18181818181818182, 0.18181818181818182, 0.15151515151515152, 0.12121212121212122, 0.12121212121212122, 0.09090909090909091, 0.09090909090909091, 0.09090909090909091, 0.09090909090909091, 0.09090909090909091, 0.09090909090909091, 0.06060606060606061, 0.06060606060606061, 0.030303030303030304, 0.030303030303030304]'"
      ]
     },
     "execution_count": 66,
     "metadata": {},
     "output_type": "execute_result"
    }
   ],
   "source": [
    "str(list_tpr)"
   ]
  },
  {
   "cell_type": "code",
   "execution_count": 60,
   "metadata": {},
   "outputs": [
    {
     "data": {
      "text/plain": [
       "[4937,\n",
       " 6568,\n",
       " 8199,\n",
       " 9830,\n",
       " 11461,\n",
       " 13092,\n",
       " 14723,\n",
       " 16354,\n",
       " 17985,\n",
       " 19616,\n",
       " 21247,\n",
       " 22878,\n",
       " 24509,\n",
       " 26140,\n",
       " 27771,\n",
       " 29402,\n",
       " 31033,\n",
       " 32664,\n",
       " 34295,\n",
       " 35926,\n",
       " 37557,\n",
       " 39188,\n",
       " 40819,\n",
       " 42450,\n",
       " 44081,\n",
       " 45712,\n",
       " 47343,\n",
       " 48974,\n",
       " 50605,\n",
       " 52236,\n",
       " 53867,\n",
       " 55498,\n",
       " 57129,\n",
       " 58760,\n",
       " 60391,\n",
       " 62022,\n",
       " 63653,\n",
       " 65284,\n",
       " 66915,\n",
       " 68546,\n",
       " 70177,\n",
       " 71808,\n",
       " 73439,\n",
       " 75070,\n",
       " 76701,\n",
       " 78332,\n",
       " 79963,\n",
       " 81594,\n",
       " 83225,\n",
       " 84856,\n",
       " 86487,\n",
       " 88118,\n",
       " 89749,\n",
       " 91380,\n",
       " 93011,\n",
       " 94642,\n",
       " 96273,\n",
       " 97904,\n",
       " 99535,\n",
       " 101166,\n",
       " 102797,\n",
       " 104428,\n",
       " 106059,\n",
       " 107690,\n",
       " 109321,\n",
       " 110952,\n",
       " 112583,\n",
       " 114214,\n",
       " 115845,\n",
       " 117476,\n",
       " 119107,\n",
       " 120738,\n",
       " 122369,\n",
       " 124000,\n",
       " 125631,\n",
       " 127262,\n",
       " 128893,\n",
       " 130524,\n",
       " 132155,\n",
       " 133786,\n",
       " 135417,\n",
       " 137048,\n",
       " 138679,\n",
       " 140310,\n",
       " 141941,\n",
       " 143572,\n",
       " 145203,\n",
       " 146834,\n",
       " 148465,\n",
       " 150096,\n",
       " 151727,\n",
       " 153358,\n",
       " 154989,\n",
       " 156620,\n",
       " 158251,\n",
       " 159882,\n",
       " 161513,\n",
       " 163144,\n",
       " 164775,\n",
       " 166406,\n",
       " 168037]"
      ]
     },
     "execution_count": 60,
     "metadata": {},
     "output_type": "execute_result"
    }
   ],
   "source": [
    "list(range(int(4937.055727), int(168133.2351), int(1631.0)))\n"
   ]
  }
 ],
 "metadata": {
  "kernelspec": {
   "display_name": "Python 3.8.10 64-bit",
   "language": "python",
   "name": "python3"
  },
  "language_info": {
   "codemirror_mode": {
    "name": "ipython",
    "version": 3
   },
   "file_extension": ".py",
   "mimetype": "text/x-python",
   "name": "python",
   "nbconvert_exporter": "python",
   "pygments_lexer": "ipython3",
   "version": "3.8.10"
  },
  "orig_nbformat": 4,
  "vscode": {
   "interpreter": {
    "hash": "916dbcbb3f70747c44a77c7bcd40155683ae19c65e1c03b4aa3499c5328201f1"
   }
  }
 },
 "nbformat": 4,
 "nbformat_minor": 2
}
